{
 "cells": [
  {
   "cell_type": "code",
   "execution_count": null,
   "id": "ae9a6bc7",
   "metadata": {},
   "outputs": [],
   "source": [
    "# Importing libraries\n",
    "import pandas as pd\n",
    "import numpy as np\n",
    "import matplotlib.pyplot as plt\n",
    "import seaborn as sns\n",
    "%matplotlib inline"
   ]
  },
  {
   "cell_type": "code",
   "execution_count": null,
   "id": "3d7c047f",
   "metadata": {},
   "outputs": [],
   "source": [
    "df = pd.read_csv('smartphones.csv')\n",
    "df.head(n=5)"
   ]
  },
  {
   "cell_type": "code",
   "execution_count": null,
   "id": "45af413a",
   "metadata": {},
   "outputs": [],
   "source": [
    "df.info()"
   ]
  },
  {
   "cell_type": "code",
   "execution_count": null,
   "id": "bad71302",
   "metadata": {},
   "outputs": [],
   "source": [
    "sum(df.duplicated())"
   ]
  },
  {
   "cell_type": "code",
   "execution_count": null,
   "id": "a34a18fc",
   "metadata": {},
   "outputs": [],
   "source": [
    "df.nunique()"
   ]
  },
  {
   "cell_type": "code",
   "execution_count": null,
   "id": "3c8d4374",
   "metadata": {},
   "outputs": [],
   "source": [
    "df_mean_pop = df.groupby( ['brand_name'])['price'].mean().to_frame(name = 'price')#.reset_index()\n",
    "df_mean_pop.sort_values(['price'], ascending=False).head(n=10)"
   ]
  },
  {
   "cell_type": "code",
   "execution_count": null,
   "id": "44098c9a",
   "metadata": {},
   "outputs": [],
   "source": [
    "df['brand_name'].value_counts().plot(kind='bar', title='Contagem de modelos por marca', alpha=.7)\n",
    "plt.xlabel('brand_name', fontsize=10)\n",
    "plt.ylabel('model', fontsize=10);"
   ]
  },
  {
   "cell_type": "code",
   "execution_count": null,
   "id": "88906eef",
   "metadata": {},
   "outputs": [],
   "source": [
    "ram = df.groupby( ['ram_capacity'])['brand_name'].count().to_frame(name = 'brand_name')#.reset_index()\n",
    "ram.sort_values(['brand_name'], ascending=False).head(n=10)"
   ]
  }
 ],
 "metadata": {
  "kernelspec": {
   "display_name": "Python 3 (ipykernel)",
   "language": "python",
   "name": "python3"
  },
  "language_info": {
   "codemirror_mode": {
    "name": "ipython",
    "version": 3
   },
   "file_extension": ".py",
   "mimetype": "text/x-python",
   "name": "python",
   "nbconvert_exporter": "python",
   "pygments_lexer": "ipython3",
   "version": "3.11.4"
  }
 },
 "nbformat": 4,
 "nbformat_minor": 5
}
