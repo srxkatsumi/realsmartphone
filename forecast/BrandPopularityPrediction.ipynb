{
 "cells": [
  {
   "cell_type": "markdown",
   "id": "344c362c-d5a0-431d-bb6b-5fab656c83a2",
   "metadata": {},
   "source": [
    "## Previsão de Popularidade da Marca ##\n",
    "\n",
    "## Brand Popularity Prediction ##"
   ]
  },
  {
   "cell_type": "code",
   "execution_count": 1,
   "id": "7b815dd4-0385-4ae8-a7a3-b09610478cb9",
   "metadata": {},
   "outputs": [],
   "source": [
    "# Importing libraries\n",
    "import pandas as pd\n",
    "import numpy as np\n",
    "from sklearn.model_selection import train_test_split\n",
    "from sklearn.linear_model import LinearRegression\n",
    "from sklearn.metrics import mean_squared_error, r2_score\n",
    "import matplotlib.pyplot as plt"
   ]
  },
  {
   "cell_type": "code",
   "execution_count": 2,
   "id": "f34c2c32-b9da-44e3-b13d-a1cd5df6e609",
   "metadata": {},
   "outputs": [
    {
     "data": {
      "text/html": [
       "<div>\n",
       "<style scoped>\n",
       "    .dataframe tbody tr th:only-of-type {\n",
       "        vertical-align: middle;\n",
       "    }\n",
       "\n",
       "    .dataframe tbody tr th {\n",
       "        vertical-align: top;\n",
       "    }\n",
       "\n",
       "    .dataframe thead th {\n",
       "        text-align: right;\n",
       "    }\n",
       "</style>\n",
       "<table border=\"1\" class=\"dataframe\">\n",
       "  <thead>\n",
       "    <tr style=\"text-align: right;\">\n",
       "      <th></th>\n",
       "      <th>brand_name</th>\n",
       "      <th>model</th>\n",
       "      <th>price</th>\n",
       "      <th>avg_rating</th>\n",
       "      <th>5G_or_not</th>\n",
       "      <th>processor_brand</th>\n",
       "      <th>num_cores</th>\n",
       "      <th>processor_speed</th>\n",
       "      <th>battery_capacity</th>\n",
       "      <th>fast_charging_available</th>\n",
       "      <th>...</th>\n",
       "      <th>internal_memory</th>\n",
       "      <th>screen_size</th>\n",
       "      <th>refresh_rate</th>\n",
       "      <th>num_rear_cameras</th>\n",
       "      <th>os</th>\n",
       "      <th>primary_camera_rear</th>\n",
       "      <th>primary_camera_front</th>\n",
       "      <th>extended_memory_available</th>\n",
       "      <th>resolution_height</th>\n",
       "      <th>resolution_width</th>\n",
       "    </tr>\n",
       "  </thead>\n",
       "  <tbody>\n",
       "    <tr>\n",
       "      <th>0</th>\n",
       "      <td>apple</td>\n",
       "      <td>Apple iPhone 11</td>\n",
       "      <td>38999</td>\n",
       "      <td>7.3</td>\n",
       "      <td>0</td>\n",
       "      <td>bionic</td>\n",
       "      <td>6.0</td>\n",
       "      <td>2.65</td>\n",
       "      <td>3110.0</td>\n",
       "      <td>0</td>\n",
       "      <td>...</td>\n",
       "      <td>64</td>\n",
       "      <td>6.1</td>\n",
       "      <td>60</td>\n",
       "      <td>2</td>\n",
       "      <td>ios</td>\n",
       "      <td>12.0</td>\n",
       "      <td>12.0</td>\n",
       "      <td>0</td>\n",
       "      <td>1792</td>\n",
       "      <td>828</td>\n",
       "    </tr>\n",
       "  </tbody>\n",
       "</table>\n",
       "<p>1 rows × 22 columns</p>\n",
       "</div>"
      ],
      "text/plain": [
       "  brand_name            model  price  avg_rating  5G_or_not processor_brand  \\\n",
       "0      apple  Apple iPhone 11  38999         7.3          0          bionic   \n",
       "\n",
       "   num_cores  processor_speed  battery_capacity  fast_charging_available  ...  \\\n",
       "0        6.0             2.65            3110.0                        0  ...   \n",
       "\n",
       "   internal_memory  screen_size  refresh_rate  num_rear_cameras   os  \\\n",
       "0               64          6.1            60                 2  ios   \n",
       "\n",
       "   primary_camera_rear primary_camera_front  extended_memory_available  \\\n",
       "0                 12.0                 12.0                          0   \n",
       "\n",
       "   resolution_height  resolution_width  \n",
       "0               1792               828  \n",
       "\n",
       "[1 rows x 22 columns]"
      ]
     },
     "execution_count": 2,
     "metadata": {},
     "output_type": "execute_result"
    }
   ],
   "source": [
    "df = pd.read_csv('smartphones.csv')\n",
    "df.head(n=1)"
   ]
  },
  {
   "cell_type": "code",
   "execution_count": 3,
   "id": "a8a658e4-3e4f-43bd-b1d9-3c7a61ad0105",
   "metadata": {},
   "outputs": [],
   "source": [
    "# Agregue os dados para contar a quantidade de modelos por marca\n",
    "brand_popularity = df['brand_name'].value_counts().reset_index()\n",
    "brand_popularity.columns = ['Brand', 'Count']"
   ]
  },
  {
   "cell_type": "code",
   "execution_count": 4,
   "id": "023600f1-05e7-4e86-b94c-efe5850a33af",
   "metadata": {},
   "outputs": [],
   "source": [
    "# Renomeie as colunas para facilitar a interpretação\n",
    "brand_popularity.rename(columns={'Brand': 'Marca', 'Count': 'Popularidade'}, inplace=True)\n"
   ]
  },
  {
   "cell_type": "code",
   "execution_count": 5,
   "id": "9e4d147a-2fbc-457a-aa22-a8f0578f4e01",
   "metadata": {},
   "outputs": [],
   "source": [
    "# Vamos considerar o ano como variável independente\n",
    "# Você pode usar a data de lançamento do modelo para extrair o ano\n",
    "# Por exemplo, df['year'] = pd.to_datetime(df['data_de_lancamento']).dt.year\n",
    "\n",
    "# Divida os dados em conjunto de treinamento e teste\n",
    "X = np.array(brand_popularity.index).reshape(-1, 1)\n",
    "y = brand_popularity['Popularidade']\n",
    "X_train, X_test, y_train, y_test = train_test_split(X, y, test_size=0.2, random_state=42)\n"
   ]
  },
  {
   "cell_type": "code",
   "execution_count": 6,
   "id": "fbe75db6-7f0d-45c7-9296-12a1763957b7",
   "metadata": {},
   "outputs": [],
   "source": [
    "# Crie um modelo de regressão linear\n",
    "model = LinearRegression()"
   ]
  },
  {
   "cell_type": "code",
   "execution_count": 7,
   "id": "629380c0-84e8-4f05-9ad3-e5460ec83b6f",
   "metadata": {},
   "outputs": [
    {
     "data": {
      "text/html": [
       "<style>#sk-container-id-1 {color: black;}#sk-container-id-1 pre{padding: 0;}#sk-container-id-1 div.sk-toggleable {background-color: white;}#sk-container-id-1 label.sk-toggleable__label {cursor: pointer;display: block;width: 100%;margin-bottom: 0;padding: 0.3em;box-sizing: border-box;text-align: center;}#sk-container-id-1 label.sk-toggleable__label-arrow:before {content: \"▸\";float: left;margin-right: 0.25em;color: #696969;}#sk-container-id-1 label.sk-toggleable__label-arrow:hover:before {color: black;}#sk-container-id-1 div.sk-estimator:hover label.sk-toggleable__label-arrow:before {color: black;}#sk-container-id-1 div.sk-toggleable__content {max-height: 0;max-width: 0;overflow: hidden;text-align: left;background-color: #f0f8ff;}#sk-container-id-1 div.sk-toggleable__content pre {margin: 0.2em;color: black;border-radius: 0.25em;background-color: #f0f8ff;}#sk-container-id-1 input.sk-toggleable__control:checked~div.sk-toggleable__content {max-height: 200px;max-width: 100%;overflow: auto;}#sk-container-id-1 input.sk-toggleable__control:checked~label.sk-toggleable__label-arrow:before {content: \"▾\";}#sk-container-id-1 div.sk-estimator input.sk-toggleable__control:checked~label.sk-toggleable__label {background-color: #d4ebff;}#sk-container-id-1 div.sk-label input.sk-toggleable__control:checked~label.sk-toggleable__label {background-color: #d4ebff;}#sk-container-id-1 input.sk-hidden--visually {border: 0;clip: rect(1px 1px 1px 1px);clip: rect(1px, 1px, 1px, 1px);height: 1px;margin: -1px;overflow: hidden;padding: 0;position: absolute;width: 1px;}#sk-container-id-1 div.sk-estimator {font-family: monospace;background-color: #f0f8ff;border: 1px dotted black;border-radius: 0.25em;box-sizing: border-box;margin-bottom: 0.5em;}#sk-container-id-1 div.sk-estimator:hover {background-color: #d4ebff;}#sk-container-id-1 div.sk-parallel-item::after {content: \"\";width: 100%;border-bottom: 1px solid gray;flex-grow: 1;}#sk-container-id-1 div.sk-label:hover label.sk-toggleable__label {background-color: #d4ebff;}#sk-container-id-1 div.sk-serial::before {content: \"\";position: absolute;border-left: 1px solid gray;box-sizing: border-box;top: 0;bottom: 0;left: 50%;z-index: 0;}#sk-container-id-1 div.sk-serial {display: flex;flex-direction: column;align-items: center;background-color: white;padding-right: 0.2em;padding-left: 0.2em;position: relative;}#sk-container-id-1 div.sk-item {position: relative;z-index: 1;}#sk-container-id-1 div.sk-parallel {display: flex;align-items: stretch;justify-content: center;background-color: white;position: relative;}#sk-container-id-1 div.sk-item::before, #sk-container-id-1 div.sk-parallel-item::before {content: \"\";position: absolute;border-left: 1px solid gray;box-sizing: border-box;top: 0;bottom: 0;left: 50%;z-index: -1;}#sk-container-id-1 div.sk-parallel-item {display: flex;flex-direction: column;z-index: 1;position: relative;background-color: white;}#sk-container-id-1 div.sk-parallel-item:first-child::after {align-self: flex-end;width: 50%;}#sk-container-id-1 div.sk-parallel-item:last-child::after {align-self: flex-start;width: 50%;}#sk-container-id-1 div.sk-parallel-item:only-child::after {width: 0;}#sk-container-id-1 div.sk-dashed-wrapped {border: 1px dashed gray;margin: 0 0.4em 0.5em 0.4em;box-sizing: border-box;padding-bottom: 0.4em;background-color: white;}#sk-container-id-1 div.sk-label label {font-family: monospace;font-weight: bold;display: inline-block;line-height: 1.2em;}#sk-container-id-1 div.sk-label-container {text-align: center;}#sk-container-id-1 div.sk-container {/* jupyter's `normalize.less` sets `[hidden] { display: none; }` but bootstrap.min.css set `[hidden] { display: none !important; }` so we also need the `!important` here to be able to override the default hidden behavior on the sphinx rendered scikit-learn.org. See: https://github.com/scikit-learn/scikit-learn/issues/21755 */display: inline-block !important;position: relative;}#sk-container-id-1 div.sk-text-repr-fallback {display: none;}</style><div id=\"sk-container-id-1\" class=\"sk-top-container\"><div class=\"sk-text-repr-fallback\"><pre>LinearRegression()</pre><b>In a Jupyter environment, please rerun this cell to show the HTML representation or trust the notebook. <br />On GitHub, the HTML representation is unable to render, please try loading this page with nbviewer.org.</b></div><div class=\"sk-container\" hidden><div class=\"sk-item\"><div class=\"sk-estimator sk-toggleable\"><input class=\"sk-toggleable__control sk-hidden--visually\" id=\"sk-estimator-id-1\" type=\"checkbox\" checked><label for=\"sk-estimator-id-1\" class=\"sk-toggleable__label sk-toggleable__label-arrow\">LinearRegression</label><div class=\"sk-toggleable__content\"><pre>LinearRegression()</pre></div></div></div></div></div>"
      ],
      "text/plain": [
       "LinearRegression()"
      ]
     },
     "execution_count": 7,
     "metadata": {},
     "output_type": "execute_result"
    }
   ],
   "source": [
    "# Treine o modelo\n",
    "model.fit(X_train, y_train)"
   ]
  },
  {
   "cell_type": "code",
   "execution_count": 8,
   "id": "049601a4-1af8-46e2-8b34-19014ed8d1b3",
   "metadata": {},
   "outputs": [],
   "source": [
    "# Faça previsões\n",
    "y_pred = model.predict(X_test)"
   ]
  },
  {
   "cell_type": "code",
   "execution_count": 9,
   "id": "2bab38ca-a5b4-4b78-b026-b7da6b01078a",
   "metadata": {},
   "outputs": [
    {
     "name": "stdout",
     "output_type": "stream",
     "text": [
      "Erro Quadrático Médio (MSE): 454.0929177054369\n",
      "Coeficiente de Determinação (R^2): 0.6441724253185832\n"
     ]
    }
   ],
   "source": [
    "# Avalie o modelo\n",
    "mse = mean_squared_error(y_test, y_pred)\n",
    "r2 = r2_score(y_test, y_pred)\n",
    "\n",
    "print(f\"Erro Quadrático Médio (MSE): {mse}\")\n",
    "print(f\"Coeficiente de Determinação (R^2): {r2}\")"
   ]
  },
  {
   "cell_type": "markdown",
   "id": "ce1a3984-f2d2-4dfd-9347-dc35fadef5db",
   "metadata": {},
   "source": [
    "**Erro Quadrático Médio (MSE): 454.09**\n",
    "\n",
    "O MSE mede a média dos quadrados dos erros entre as previsões e os valores reais. Quanto menor o MSE, melhor. **Neste caso, um MSE de 454.09 sugere que o modelo não se ajusta perfeitamente aos dados**, mas ainda assim fornece uma previsão razoável.\n",
    "\n",
    "**Coeficiente de Determinação (R^2): 0.644**\n",
    "\n",
    "O coeficiente de determinação, também conhecido como R-quadrado, varia de 0 a 1 e mede a proporção da variância na variável dependente que é explicada pelo modelo. Neste caso, um **R^2 de 0.644** significa que **o modelo explica aproximadamente 64.4% da variabilidade** na popularidade da marca. "
   ]
  },
  {
   "cell_type": "code",
   "execution_count": 10,
   "id": "c441837b-6512-4aab-a332-f70e8f4b8558",
   "metadata": {
    "tags": []
   },
   "outputs": [
    {
     "data": {
      "image/png": "[encoded data removed]",
      "text/plain": [
       "<Figure size 640x480 with 1 Axes>"
      ]
     },
     "metadata": {},
     "output_type": "display_data"
    }
   ],
   "source": [
    "# Plote a linha de regressão\n",
    "plt.scatter(X_test, y_test, color='blue', label='Dados reais')\n",
    "plt.plot(X_test, y_pred, color='red', linewidth=2, label='Regressão Linear')\n",
    "plt.xlabel('Marca')\n",
    "plt.ylabel('Popularidade')\n",
    "plt.legend()\n",
    "plt.show()"
   ]
  }
 ],
 "metadata": {
  "kernelspec": {
   "display_name": "Python 3 (ipykernel)",
   "language": "python",
   "name": "python3"
  },
  "language_info": {
   "codemirror_mode": {
    "name": "ipython",
    "version": 3
   },
   "file_extension": ".py",
   "mimetype": "text/x-python",
   "name": "python",
   "nbconvert_exporter": "python",
   "pygments_lexer": "ipython3",
   "version": "3.11.4"
  }
 },
 "nbformat": 4,
 "nbformat_minor": 5
}
